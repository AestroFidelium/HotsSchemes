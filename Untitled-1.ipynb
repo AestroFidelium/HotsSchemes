{
 "cells": [
  {
   "cell_type": "code",
   "execution_count": 7,
   "metadata": {},
   "outputs": [],
   "source": [
    "import os\n",
    "import bs4\n",
    "import json\n",
    "from collections import defaultdict\n",
    "import sys\n",
    "import yaml\n",
    "sys.setrecursionlimit(200000)"
   ]
  },
  {
   "cell_type": "code",
   "execution_count": 2,
   "metadata": {},
   "outputs": [],
   "source": [
    "def get_xml_files(directory):\n",
    "    \"\"\"Получить список XML файлов в директории.\"\"\"\n",
    "    for root, dirs, files in os.walk(directory):\n",
    "        for file in files:\n",
    "            if file.lower().endswith('.xml'):\n",
    "                yield os.path.join(root, file)"
   ]
  },
  {
   "cell_type": "code",
   "execution_count": 4,
   "metadata": {},
   "outputs": [],
   "source": [
    "def parse_tag(tag):\n",
    "    \"\"\"Рекурсивно разобрать тег и вернуть его данные.\"\"\"\n",
    "    if tag.find_all(recursive=False):\n",
    "        # Если у тега есть дочерние элементы, обработаем их\n",
    "        return {\n",
    "            'attrs': tag.attrs,\n",
    "            'children': {child.name: parse_tag(child) for child in tag.find_all(recursive=False)}\n",
    "        }\n",
    "    else:\n",
    "        # Если дочерних элементов нет, вернем только атрибуты\n",
    "        return tag.attrs"
   ]
  },
  {
   "cell_type": "code",
   "execution_count": 3,
   "metadata": {},
   "outputs": [],
   "source": [
    "def parse_xml(file_path):\n",
    "    \"\"\"Разобрать XML файл и вернуть данные в виде словаря.\"\"\"\n",
    "    with open(file_path, 'r', encoding='utf-8') as file:\n",
    "        soup = bs4.BeautifulSoup(file, 'xml')\n",
    "        return {child.name: parse_tag(child) for child in soup.find_all(recursive=False)}\n"
   ]
  },
  {
   "cell_type": "code",
   "execution_count": 6,
   "metadata": {},
   "outputs": [],
   "source": [
    "def flatten(nested_list):\n",
    "    \"\"\"Функция для распаковки вложенных списков.\"\"\"\n",
    "    result = []\n",
    "    if isinstance(nested_list, list):\n",
    "        for item in nested_list:\n",
    "            result.extend(flatten(item))\n",
    "    else:\n",
    "        result.append(nested_list)\n",
    "    return result"
   ]
  },
  {
   "cell_type": "code",
   "execution_count": 5,
   "metadata": {},
   "outputs": [],
   "source": [
    "def merge_dicts(base_dict, new_data):\n",
    "    \"\"\"Объединить два словаря, добавляя уникальные значения из new_data в base_dict.\"\"\"\n",
    "    for key, value in new_data.items():\n",
    "        if key in base_dict:\n",
    "            if isinstance(base_dict[key], dict) and isinstance(value, dict):\n",
    "                merge_dicts(base_dict[key], value)\n",
    "            elif isinstance(base_dict[key], list) and isinstance(value, list):\n",
    "                # Добавляем только уникальные элементы списка\n",
    "                base_dict[key] = list(set(base_dict[key] + value))\n",
    "            elif base_dict[key] != value:\n",
    "                # Если значения различаются и не являются списками, создаем список из значений\n",
    "                base_dict[key] = [base_dict[key], value] if base_dict[key] != value else base_dict[key]\n",
    "        else:\n",
    "            base_dict[key] = value"
   ]
  },
  {
   "cell_type": "code",
   "execution_count": 8,
   "metadata": {},
   "outputs": [],
   "source": [
    "directory = 'D:\\\\Projects\\\\HotsDeveloper\\\\mods'\n",
    "all_tags = defaultdict(dict)\n",
    "\n",
    "for xml_file in get_xml_files(directory):\n",
    "    tags = parse_xml(xml_file)\n",
    "    for tag_name, tag_data in tags.items():\n",
    "        merge_dicts(all_tags[tag_name], tag_data)"
   ]
  },
  {
   "cell_type": "code",
   "execution_count": 9,
   "metadata": {},
   "outputs": [
    {
     "ename": "",
     "evalue": "",
     "output_type": "error",
     "traceback": [
      "\u001b[1;31mПри выполнении кода в текущей ячейке или предыдущей ячейке ядро аварийно завершило работу. \n",
      "\u001b[1;31mПроверьте код в ячейках, чтобы определить возможную причину сбоя. \n",
      "\u001b[1;31mЩелкните <a href='https://aka.ms/vscodeJupyterKernelCrash'>здесь</a>, чтобы получить дополнительные сведения. \n",
      "\u001b[1;31mПодробнее см. в <a href='command:jupyter.viewOutput'>журнале Jupyter</a>."
     ]
    }
   ],
   "source": [
    "all_tags"
   ]
  }
 ],
 "metadata": {
  "kernelspec": {
   "display_name": "Python 3",
   "language": "python",
   "name": "python3"
  },
  "language_info": {
   "codemirror_mode": {
    "name": "ipython",
    "version": 3
   },
   "file_extension": ".py",
   "mimetype": "text/x-python",
   "name": "python",
   "nbconvert_exporter": "python",
   "pygments_lexer": "ipython3",
   "version": "3.10.7"
  }
 },
 "nbformat": 4,
 "nbformat_minor": 2
}
